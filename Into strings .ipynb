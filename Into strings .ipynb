{
 "cells": [
  {
   "cell_type": "markdown",
   "metadata": {},
   "source": [
    "# Concatenation\n",
    "\n",
    "## Project-1-Madlibs from Kylie Ying\n",
    "https://www.youtube.com/watch?v=8ext9G7xspg"
   ]
  },
  {
   "cell_type": "code",
   "execution_count": 10,
   "metadata": {},
   "outputs": [
    {
     "ename": "TypeError",
     "evalue": "can only concatenate str (not \"int\") to str",
     "output_type": "error",
     "traceback": [
      "\u001b[0;31m---------------------------------------------------------------------------\u001b[0m",
      "\u001b[0;31mTypeError\u001b[0m                                 Traceback (most recent call last)",
      "\u001b[0;32m<ipython-input-10-f07603ee7569>\u001b[0m in \u001b[0;36m<module>\u001b[0;34m\u001b[0m\n\u001b[1;32m      5\u001b[0m \u001b[0mage\u001b[0m \u001b[0;34m=\u001b[0m \u001b[0;36m12\u001b[0m\u001b[0;34m\u001b[0m\u001b[0;34m\u001b[0m\u001b[0m\n\u001b[1;32m      6\u001b[0m \u001b[0;31m# Method 1 direct adding\u001b[0m\u001b[0;34m\u001b[0m\u001b[0;34m\u001b[0m\u001b[0;34m\u001b[0m\u001b[0m\n\u001b[0;32m----> 7\u001b[0;31m \u001b[0mprint\u001b[0m\u001b[0;34m(\u001b[0m\u001b[0;34m\"Amazing tricks from \"\u001b[0m \u001b[0;34m+\u001b[0m \u001b[0msnowboarder\u001b[0m \u001b[0;34m+\u001b[0m \u001b[0;34m\" aged \"\u001b[0m \u001b[0;34m+\u001b[0m \u001b[0mage\u001b[0m \u001b[0;34m+\u001b[0m \u001b[0;34m\" is really \"\u001b[0m \u001b[0;34m+\u001b[0m \u001b[0madj\u001b[0m\u001b[0;34m)\u001b[0m\u001b[0;34m\u001b[0m\u001b[0;34m\u001b[0m\u001b[0m\n\u001b[0m\u001b[1;32m      8\u001b[0m \u001b[0;31m# Method 2 curly braces{} used for formatting mapping\u001b[0m\u001b[0;34m\u001b[0m\u001b[0;34m\u001b[0m\u001b[0;34m\u001b[0m\u001b[0m\n\u001b[1;32m      9\u001b[0m print(\"Amazing tricks from {person} aged {age} is really \\\n",
      "\u001b[0;31mTypeError\u001b[0m: can only concatenate str (not \"int\") to str"
     ]
    }
   ],
   "source": [
    "# string concatenation (how you add strings together)\n",
    "\n",
    "snowboarder = \"Shawn White\"\n",
    "adj = \"amazing\"\n",
    "age = 12\n",
    "# Method 1 direct adding\n",
    "print(\"Amazing tricks from \" + snowboarder + \" aged \" + age + \" is really \" + adj)\n",
    "# Method 2 curly braces{} used for formatting mapping\n",
    "print(\"Amazing tricks from {person} aged {age} is really \\\n",
    "      {adjective}\".format(adjective = adj, person = snowboarder, age = age) )"
   ]
  },
  {
   "cell_type": "code",
   "execution_count": null,
   "metadata": {},
   "outputs": [],
   "source": [
    "##Tips: There is an error in method 1. When using a \"+\" operator for concatenation, \n",
    "## we have to convert all int(numbers) into str(int) to make it possible.\n",
    "\n",
    "## Whilewe are using curly braces, Python will make the conversion itself."
   ]
  },
  {
   "cell_type": "code",
   "execution_count": 9,
   "metadata": {},
   "outputs": [
    {
     "name": "stdout",
     "output_type": "stream",
     "text": [
      "Type in a nameTintin\n",
      "Type in a number23\n",
      "Type in a adjectiveCoooool!\n",
      "Amazing tricks from Tintin aged 23 is really Coooool!.\n"
     ]
    }
   ],
   "source": [
    "# Method 3 f function\n",
    "name = input(\"Type in a name\")\n",
    "number = input(\"Type in a number\")\n",
    "adj = input(\"Type in a adjective\")\n",
    "\n",
    "madlib = f\"Amazing trick from {name} aged {number} is really {adj}.\"\n",
    "print(madlib)"
   ]
  },
  {
   "cell_type": "code",
   "execution_count": null,
   "metadata": {},
   "outputs": [],
   "source": []
  }
 ],
 "metadata": {
  "kernelspec": {
   "display_name": "Python 3",
   "language": "python",
   "name": "python3"
  },
  "language_info": {
   "codemirror_mode": {
    "name": "ipython",
    "version": 3
   },
   "file_extension": ".py",
   "mimetype": "text/x-python",
   "name": "python",
   "nbconvert_exporter": "python",
   "pygments_lexer": "ipython3",
   "version": "3.7.3"
  },
  "toc": {
   "base_numbering": 1,
   "nav_menu": {},
   "number_sections": true,
   "sideBar": true,
   "skip_h1_title": false,
   "title_cell": "Table of Contents",
   "title_sidebar": "Contents",
   "toc_cell": false,
   "toc_position": {},
   "toc_section_display": true,
   "toc_window_display": false
  }
 },
 "nbformat": 4,
 "nbformat_minor": 4
}
